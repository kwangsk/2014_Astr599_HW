{
 "metadata": {
  "name": "",
  "signature": "sha256:c76a83d8a5627ab793c5bdeb17235bec2e63bddcbe51372fb508291fa0e861ca"
 },
 "nbformat": 3,
 "nbformat_minor": 0,
 "worksheets": [
  {
   "cells": [
    {
     "cell_type": "code",
     "collapsed": false,
     "input": [
      "import cython\n",
      "import matplotlib.pyplot as plt"
     ],
     "language": "python",
     "metadata": {},
     "outputs": [],
     "prompt_number": 43
    },
    {
     "cell_type": "code",
     "collapsed": false,
     "input": [
      "def mandel(x, y, max_iter):\n",
      "    \"\"\"\n",
      "    Given z = x + iy and max_iter, determine whether the candidate\n",
      "    is in the mandelbrot set for the given number of iterations\n",
      "    \"\"\"\n",
      "    c = complex(x, y)\n",
      "    z = 0.0j\n",
      "    for i in range(max_iter):\n",
      "        z = z*z + c\n",
      "        if (z.real*z.real + z.imag*z.imag) >= 4:\n",
      "            return i\n",
      "\n",
      "    return max_iter\n",
      "\n",
      "def create_fractal(Nx, Ny, xmin, xmax, ymin, ymax, max_iter):\n",
      "    \"\"\"Create and return a fractal image\"\"\"\n",
      "    image = np.zeros((Ny, Nx), dtype=float)\n",
      "    dx = (xmax - xmin) * 1. / Nx\n",
      "    dy = (ymax - ymin) * 1. / Ny\n",
      "    \n",
      "    for x in range(Nx):\n",
      "        rpart = xmin + x * dx\n",
      "        for y in range(Ny):\n",
      "            ipart = ymin + y * dy\n",
      "            color = mandel(rpart, ipart, max_iter)\n",
      "            image[y, x] = color\n",
      "    return image"
     ],
     "language": "python",
     "metadata": {},
     "outputs": [],
     "prompt_number": 66
    },
    {
     "cell_type": "code",
     "collapsed": false,
     "input": [
      "%load_ext cythonmagic"
     ],
     "language": "python",
     "metadata": {},
     "outputs": [
      {
       "output_type": "stream",
       "stream": "stdout",
       "text": [
        "The cythonmagic extension is already loaded. To reload it, use:\n",
        "  %reload_ext cythonmagic\n"
       ]
      }
     ],
     "prompt_number": 67
    },
    {
     "cell_type": "code",
     "collapsed": false,
     "input": [
      "%%cython\n",
      "import numpy as np\n",
      "\n",
      "def mandel_cython(int x, int y, int max_iter):\n",
      "    \"\"\"\n",
      "    Given z = x + iy and max_iter, determine whether the candidate\n",
      "    is in the mandelbrot set for the given number of iterations\n",
      "    \"\"\"\n",
      "    cdef complex c = complex(x, y)\n",
      "    cdef complex z = 0.0j\n",
      "    for i in range(max_iter):\n",
      "        z = z*z + c\n",
      "        if (z.real*z.real + z.imag*z.imag) >= 4:\n",
      "            return i\n",
      "\n",
      "    return max_iter\n",
      "\n",
      "def create_fractal_cython(int Nx, int Ny, int xmin, int xmax, int ymin, int ymax, int max_iter):\n",
      "    \"\"\"Create and return a fractal image\"\"\"\n",
      "    image = np.zeros((Ny, Nx))\n",
      "    cdef double dx = (xmax - xmin) * 1. / Nx\n",
      "    cdef double dy = (ymax - ymin) * 1. / Ny\n",
      "    \n",
      "    for x in range(Nx):\n",
      "        rpart = xmin + x * dx\n",
      "        for y in range(Ny):\n",
      "            ipart = ymin + y * dy\n",
      "            color = mandel_cython(rpart, ipart, max_iter)\n",
      "            image[y, x] = color\n",
      "    return image\n"
     ],
     "language": "python",
     "metadata": {},
     "outputs": [],
     "prompt_number": 68
    },
    {
     "cell_type": "code",
     "collapsed": false,
     "input": [
      "from numba import autojit"
     ],
     "language": "python",
     "metadata": {},
     "outputs": [],
     "prompt_number": 69
    },
    {
     "cell_type": "code",
     "collapsed": false,
     "input": [
      "@autojit\n",
      "def mandel_numba(x, y, max_iter):\n",
      "    \"\"\"\n",
      "    Given z = x + iy and max_iter, determine whether the candidate\n",
      "    is in the mandelbrot set for the given number of iterations\n",
      "    \"\"\"\n",
      "    c = complex(x, y)\n",
      "    z = 0.0j\n",
      "    for i in range(max_iter):\n",
      "        z = z*z + c\n",
      "        if (z.real*z.real + z.imag*z.imag) >= 4:\n",
      "            return i\n",
      "\n",
      "    return max_iter\n",
      "\n",
      "@autojit\n",
      "def create_fractal_numba(Nx, Ny, xmin, xmax, ymin, ymax, max_iter):\n",
      "    \"\"\"Create and return a fractal image\"\"\"\n",
      "    image = np.zeros((Ny, Nx), dtype=float)\n",
      "    dx = (xmax - xmin) * 1. / Nx\n",
      "    dy = (ymax - ymin) * 1. / Ny\n",
      "    \n",
      "    for x in range(Nx):\n",
      "        rpart = xmin + x * dx\n",
      "        for y in range(Ny):\n",
      "            ipart = ymin + y * dy\n",
      "            color = mandel_numba(rpart, ipart, max_iter)\n",
      "            image[y, x] = color\n",
      "    return image"
     ],
     "language": "python",
     "metadata": {},
     "outputs": [],
     "prompt_number": 70
    },
    {
     "cell_type": "code",
     "collapsed": false,
     "input": [
      "%timeit create_fractal(300, 200, -2, 1, -1, 1, 20)"
     ],
     "language": "python",
     "metadata": {},
     "outputs": [
      {
       "output_type": "stream",
       "stream": "stdout",
       "text": [
        "1 loops, best of 3: 592 ms per loop\n"
       ]
      }
     ],
     "prompt_number": 71
    },
    {
     "cell_type": "code",
     "collapsed": false,
     "input": [
      "%timeit create_fractal_cython(300, 200, -2, 1, -1, 1, 20)"
     ],
     "language": "python",
     "metadata": {},
     "outputs": [
      {
       "output_type": "stream",
       "stream": "stdout",
       "text": [
        "10 loops, best of 3: 70.1 ms per loop\n"
       ]
      }
     ],
     "prompt_number": 72
    },
    {
     "cell_type": "code",
     "collapsed": false,
     "input": [
      "%timeit create_fractal_numba(300, 200, -2, 1, -1, 1, 20)"
     ],
     "language": "python",
     "metadata": {},
     "outputs": [
      {
       "output_type": "stream",
       "stream": "stdout",
       "text": [
        "1 loops, best of 3: 5.16 ms per loop\n"
       ]
      }
     ],
     "prompt_number": 73
    },
    {
     "cell_type": "code",
     "collapsed": false,
     "input": [
      "%matplotlib inline\n",
      "image =create_fractal_numba(1400, 800, -2, 1, -1, 1, 256)\n",
      "plt.imshow(image, cmap=plt.cm.jet)"
     ],
     "language": "python",
     "metadata": {},
     "outputs": [
      {
       "metadata": {},
       "output_type": "pyout",
       "prompt_number": 92,
       "text": [
        "<matplotlib.image.AxesImage at 0x1ab69780>"
       ]
      },
      {
       "metadata": {},
       "output_type": "display_data",
       "png": "[encoded data removed]",
       "text": [
        "<matplotlib.figure.Figure at 0x131a8da0>"
       ]
      }
     ],
     "prompt_number": 92
    },
    {
     "cell_type": "code",
     "collapsed": false,
     "input": [],
     "language": "python",
     "metadata": {},
     "outputs": []
    }
   ],
   "metadata": {}
  }
 ]
}