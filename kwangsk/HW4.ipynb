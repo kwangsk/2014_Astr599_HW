{
 "metadata": {
  "name": "",
  "signature": "sha256:b17cea739b24bdbed3364c22fc0b15c6ba394eaef16b1c0c7e7fca2c958e34b4"
 },
 "nbformat": 3,
 "nbformat_minor": 0,
 "worksheets": [
  {
   "cells": [
    {
     "cell_type": "code",
     "collapsed": false,
     "input": [
      "#Kwang Seob Kim\n",
      "#HW 4\n",
      "\n",
      "import pandas as pd\n",
      "import numpy as np\n",
      "import urllib2\n",
      "pd.options.display.max_rows = 10\n",
      "\n",
      "%matplotlib inline"
     ],
     "language": "python",
     "metadata": {},
     "outputs": [],
     "prompt_number": 1
    },
    {
     "cell_type": "code",
     "collapsed": false,
     "input": [
      "pd.__version__"
     ],
     "language": "python",
     "metadata": {},
     "outputs": [
      {
       "metadata": {},
       "output_type": "pyout",
       "prompt_number": 2,
       "text": [
        "'0.14.0'"
       ]
      }
     ],
     "prompt_number": 2
    },
    {
     "cell_type": "code",
     "collapsed": false,
     "input": [
      "url = 'http://ghdx.healthdata.org/sites/default/files/record-attached-files/IHME_PHMRC_VA_DATA_CODEBOOK_Y2013M09D11_0.xlsx'\n",
      "urlcode = 'http://ghdx.healthdata.org/sites/default/files/record-attached-files/IHME_PHMRC_VA_DATA_ADULT_Y2013M09D11_0.csv'\n",
      "response = urllib2.urlopen(url)\n",
      "cb = pd.read_excel(response)\n",
      "df = pd.read_csv(urlcode, low_memory=False)"
     ],
     "language": "python",
     "metadata": {},
     "outputs": [],
     "prompt_number": 3
    },
    {
     "cell_type": "code",
     "collapsed": false,
     "input": [
      "cb.head()"
     ],
     "language": "python",
     "metadata": {},
     "outputs": [
      {
       "html": [
        "<div style=\"max-height:1000px;max-width:1500px;overflow:auto;\">\n",
        "<table border=\"1\" class=\"dataframe\">\n",
        "  <thead>\n",
        "    <tr style=\"text-align: right;\">\n",
        "      <th></th>\n",
        "      <th>variable</th>\n",
        "      <th>question</th>\n",
        "      <th>module</th>\n",
        "      <th>health_care_experience</th>\n",
        "      <th>coding</th>\n",
        "    </tr>\n",
        "  </thead>\n",
        "  <tbody>\n",
        "    <tr>\n",
        "      <th>0</th>\n",
        "      <td>         site</td>\n",
        "      <td>                                Site</td>\n",
        "      <td> General</td>\n",
        "      <td> 0</td>\n",
        "      <td> NaN</td>\n",
        "    </tr>\n",
        "    <tr>\n",
        "      <th>1</th>\n",
        "      <td>        newid</td>\n",
        "      <td>                            Study ID</td>\n",
        "      <td> General</td>\n",
        "      <td> 0</td>\n",
        "      <td> NaN</td>\n",
        "    </tr>\n",
        "    <tr>\n",
        "      <th>2</th>\n",
        "      <td> gs_diagnosis</td>\n",
        "      <td>        Gold Standard Diagnosis Code</td>\n",
        "      <td> General</td>\n",
        "      <td> 0</td>\n",
        "      <td> NaN</td>\n",
        "    </tr>\n",
        "    <tr>\n",
        "      <th>3</th>\n",
        "      <td> gs_comorbid1</td>\n",
        "      <td> Gold Standard Comorbid Conditions 1</td>\n",
        "      <td> General</td>\n",
        "      <td> 0</td>\n",
        "      <td> NaN</td>\n",
        "    </tr>\n",
        "    <tr>\n",
        "      <th>4</th>\n",
        "      <td> gs_comorbid2</td>\n",
        "      <td> Gold Standard Comorbid Conditions 2</td>\n",
        "      <td> General</td>\n",
        "      <td> 0</td>\n",
        "      <td> NaN</td>\n",
        "    </tr>\n",
        "  </tbody>\n",
        "</table>\n",
        "</div>"
       ],
       "metadata": {},
       "output_type": "pyout",
       "prompt_number": 4,
       "text": [
        "       variable                             question   module  \\\n",
        "0          site                                 Site  General   \n",
        "1         newid                             Study ID  General   \n",
        "2  gs_diagnosis         Gold Standard Diagnosis Code  General   \n",
        "3  gs_comorbid1  Gold Standard Comorbid Conditions 1  General   \n",
        "4  gs_comorbid2  Gold Standard Comorbid Conditions 2  General   \n",
        "\n",
        "   health_care_experience coding  \n",
        "0                       0    NaN  \n",
        "1                       0    NaN  \n",
        "2                       0    NaN  \n",
        "3                       0    NaN  \n",
        "4                       0    NaN  "
       ]
      }
     ],
     "prompt_number": 4
    },
    {
     "cell_type": "code",
     "collapsed": false,
     "input": [
      "varcode=cb.question.str.contains(\"have a fever\")\n",
      "#var[var==True]\n",
      "cb[varcode]\n",
      "#it's question 79 that has variable code a2_02"
     ],
     "language": "python",
     "metadata": {},
     "outputs": [
      {
       "html": [
        "<div style=\"max-height:1000px;max-width:1500px;overflow:auto;\">\n",
        "<table border=\"1\" class=\"dataframe\">\n",
        "  <thead>\n",
        "    <tr style=\"text-align: right;\">\n",
        "      <th></th>\n",
        "      <th>variable</th>\n",
        "      <th>question</th>\n",
        "      <th>module</th>\n",
        "      <th>health_care_experience</th>\n",
        "      <th>coding</th>\n",
        "    </tr>\n",
        "  </thead>\n",
        "  <tbody>\n",
        "    <tr>\n",
        "      <th>79  </th>\n",
        "      <td> a2_02</td>\n",
        "      <td>                          Did [name] have a fever?</td>\n",
        "      <td> Adult</td>\n",
        "      <td> 0</td>\n",
        "      <td> 0 \"No\" 1 \"Yes\" 8 \"Refused to Answer\" 9 \"Don't ...</td>\n",
        "    </tr>\n",
        "    <tr>\n",
        "      <th>1107</th>\n",
        "      <td> c4_01</td>\n",
        "      <td> During the illness that led to death, did [nam...</td>\n",
        "      <td> Child</td>\n",
        "      <td> 0</td>\n",
        "      <td> 0 \"No\" 1 \"Yes\" 8 \"Refused to Answer\" 9 \"Don't ...</td>\n",
        "    </tr>\n",
        "  </tbody>\n",
        "</table>\n",
        "</div>"
       ],
       "metadata": {},
       "output_type": "pyout",
       "prompt_number": 5,
       "text": [
        "     variable                                           question module  \\\n",
        "79      a2_02                           Did [name] have a fever?  Adult   \n",
        "1107    c4_01  During the illness that led to death, did [nam...  Child   \n",
        "\n",
        "      health_care_experience  \\\n",
        "79                         0   \n",
        "1107                       0   \n",
        "\n",
        "                                                 coding  \n",
        "79    0 \"No\" 1 \"Yes\" 8 \"Refused to Answer\" 9 \"Don't ...  \n",
        "1107  0 \"No\" 1 \"Yes\" 8 \"Refused to Answer\" 9 \"Don't ...  "
       ]
      }
     ],
     "prompt_number": 5
    },
    {
     "cell_type": "code",
     "collapsed": false,
     "input": [
      "var = cb.loc[79, 'variable']\n",
      "var"
     ],
     "language": "python",
     "metadata": {},
     "outputs": [
      {
       "metadata": {},
       "output_type": "pyout",
       "prompt_number": 18,
       "text": [
        "u'a2_02'"
       ]
      }
     ],
     "prompt_number": 18
    },
    {
     "cell_type": "code",
     "collapsed": false,
     "input": [
      "df['fever'] = (df[var] == 'Yes')"
     ],
     "language": "python",
     "metadata": {},
     "outputs": [],
     "prompt_number": 14
    },
    {
     "cell_type": "code",
     "collapsed": false,
     "input": [
      "df.groupby('word_fever').fever.mean()"
     ],
     "language": "python",
     "metadata": {},
     "outputs": [
      {
       "metadata": {},
       "output_type": "pyout",
       "prompt_number": 8,
       "text": [
        "word_fever\n",
        "0             0.429095\n",
        "1             0.903846\n",
        "2             0.945274\n",
        "3             0.980392\n",
        "4             0.956522\n",
        "5             1.000000\n",
        "6             1.000000\n",
        "Name: fever, dtype: float64"
       ]
      }
     ],
     "prompt_number": 8
    },
    {
     "cell_type": "code",
     "collapsed": false,
     "input": [
      "#Find the cause with the highest endorsement rate for the symptom \"fever\" among Adult deaths\n",
      "# The data set is already adult only, as mentioned in the class.\n",
      "dfa = df[df.module == \"Adult\"]\n",
      "dfa.groupby('gs_text34').fever.mean().order(ascending=False)\n",
      "#Malaria is the cause with highest endorsement rate for the symptom \"fever\""
     ],
     "language": "python",
     "metadata": {},
     "outputs": [
      {
       "metadata": {},
       "output_type": "pyout",
       "prompt_number": 9,
       "text": [
        "gs_text34\n",
        "Malaria                      0.860000\n",
        "AIDS                         0.794821\n",
        "Other Infectious Diseases    0.741445\n",
        "...\n",
        "Other Injuries             0.087379\n",
        "Bite of Venomous Animal    0.060606\n",
        "Drowning                   0.028302\n",
        "Name: fever, Length: 34, dtype: float64"
       ]
      }
     ],
     "prompt_number": 9
    },
    {
     "cell_type": "code",
     "collapsed": false,
     "input": [
      "import matplotlib.pyplot as plt\n",
      "# do some plotting like we did in class\n",
      "(dfa.groupby('gs_text34').word_fever.mean() * 100).order().plot(kind='barh', figsize=(12,12))\n",
      "plt.xlabel('Endorsement Rate (%)')"
     ],
     "language": "python",
     "metadata": {},
     "outputs": [
      {
       "metadata": {},
       "output_type": "pyout",
       "prompt_number": 10,
       "text": [
        "<matplotlib.text.Text at 0xbdac048>"
       ]
      },
      {
       "metadata": {},
       "output_type": "display_data",
       "png": "[encoded data removed]",
       "text": [
        "<matplotlib.figure.Figure at 0xb8515f8>"
       ]
      }
     ],
     "prompt_number": 10
    },
    {
     "cell_type": "code",
     "collapsed": false,
     "input": [
      "# find aids question\n",
      "varcode2=cb.question.str.contains(\"AIDS\")\n",
      "cb[varcode2]\n",
      "\n",
      "#It's the question 76."
     ],
     "language": "python",
     "metadata": {},
     "outputs": [
      {
       "output_type": "stream",
       "stream": "stdout",
       "text": [
        "76                                Did Decedent Have AIDS?\n",
        "1215    Has the deceased's (biological) mother ever be...\n",
        "Name: question, dtype: object\n"
       ]
      }
     ],
     "prompt_number": 30
    },
    {
     "cell_type": "code",
     "collapsed": false,
     "input": [
      "var2 = cb.loc[76, 'variable']\n",
      "var2"
     ],
     "language": "python",
     "metadata": {},
     "outputs": [
      {
       "metadata": {},
       "output_type": "pyout",
       "prompt_number": 31,
       "text": [
        "u'a1_01_14'"
       ]
      }
     ],
     "prompt_number": 31
    },
    {
     "cell_type": "code",
     "collapsed": false,
     "input": [
      "dfa['aids_endor'] = (dfa[var2] == 'Yes')\n",
      "dfa['aids_cause'] = (dfa.gs_text34 == 'AIDS')\n"
     ],
     "language": "python",
     "metadata": {},
     "outputs": [],
     "prompt_number": 43
    },
    {
     "cell_type": "code",
     "collapsed": false,
     "input": [
      "dfa.groupby(['aids_endor', 'aids_cause']).size().unstack()"
     ],
     "language": "python",
     "metadata": {},
     "outputs": [
      {
       "html": [
        "<div style=\"max-height:1000px;max-width:1500px;overflow:auto;\">\n",
        "<table border=\"1\" class=\"dataframe\">\n",
        "  <thead>\n",
        "    <tr style=\"text-align: right;\">\n",
        "      <th>aids_cause</th>\n",
        "      <th>False</th>\n",
        "      <th>True</th>\n",
        "    </tr>\n",
        "    <tr>\n",
        "      <th>aids_endor</th>\n",
        "      <th></th>\n",
        "      <th></th>\n",
        "    </tr>\n",
        "  </thead>\n",
        "  <tbody>\n",
        "    <tr>\n",
        "      <th>False</th>\n",
        "      <td> 7204</td>\n",
        "      <td> 194</td>\n",
        "    </tr>\n",
        "    <tr>\n",
        "      <th>True </th>\n",
        "      <td>  135</td>\n",
        "      <td> 308</td>\n",
        "    </tr>\n",
        "  </tbody>\n",
        "</table>\n",
        "</div>"
       ],
       "metadata": {},
       "output_type": "pyout",
       "prompt_number": 49,
       "text": [
        "aids_cause  False  True \n",
        "aids_endor              \n",
        "False        7204    194\n",
        "True          135    308"
       ]
      }
     ],
     "prompt_number": 49
    },
    {
     "cell_type": "code",
     "collapsed": false,
     "input": [
      "sitecompare = pd.crosstab(dfa['site'], [dfa['aids_endor'], dfa['aids_cause']])\n",
      "sitecompare"
     ],
     "language": "python",
     "metadata": {},
     "outputs": [
      {
       "html": [
        "<div style=\"max-height:1000px;max-width:1500px;overflow:auto;\">\n",
        "<table border=\"1\" class=\"dataframe\">\n",
        "  <thead>\n",
        "    <tr>\n",
        "      <th>aids_endor</th>\n",
        "      <th colspan=\"2\" halign=\"left\">False</th>\n",
        "      <th colspan=\"2\" halign=\"left\">True </th>\n",
        "    </tr>\n",
        "    <tr>\n",
        "      <th>aids_cause</th>\n",
        "      <th>False</th>\n",
        "      <th>True </th>\n",
        "      <th>False</th>\n",
        "      <th>True </th>\n",
        "    </tr>\n",
        "    <tr>\n",
        "      <th>site</th>\n",
        "      <th></th>\n",
        "      <th></th>\n",
        "      <th></th>\n",
        "      <th></th>\n",
        "    </tr>\n",
        "  </thead>\n",
        "  <tbody>\n",
        "    <tr>\n",
        "      <th>AP</th>\n",
        "      <td> 1404</td>\n",
        "      <td> 75</td>\n",
        "      <td>  14</td>\n",
        "      <td>  61</td>\n",
        "    </tr>\n",
        "    <tr>\n",
        "      <th>Bohol</th>\n",
        "      <td> 1259</td>\n",
        "      <td>  0</td>\n",
        "      <td>   0</td>\n",
        "      <td>   0</td>\n",
        "    </tr>\n",
        "    <tr>\n",
        "      <th>Dar</th>\n",
        "      <td> 1414</td>\n",
        "      <td> 88</td>\n",
        "      <td> 109</td>\n",
        "      <td> 115</td>\n",
        "    </tr>\n",
        "    <tr>\n",
        "      <th>Mexico</th>\n",
        "      <td> 1460</td>\n",
        "      <td> 29</td>\n",
        "      <td>   6</td>\n",
        "      <td>  91</td>\n",
        "    </tr>\n",
        "    <tr>\n",
        "      <th>Pemba</th>\n",
        "      <td>  294</td>\n",
        "      <td>  0</td>\n",
        "      <td>   3</td>\n",
        "      <td>   0</td>\n",
        "    </tr>\n",
        "    <tr>\n",
        "      <th>UP</th>\n",
        "      <td> 1373</td>\n",
        "      <td>  2</td>\n",
        "      <td>   3</td>\n",
        "      <td>  41</td>\n",
        "    </tr>\n",
        "  </tbody>\n",
        "</table>\n",
        "</div>"
       ],
       "metadata": {},
       "output_type": "pyout",
       "prompt_number": 66,
       "text": [
        "aids_endor  False         True        \n",
        "aids_cause  False  True   False  True \n",
        "site                                  \n",
        "AP           1404     75     14     61\n",
        "Bohol        1259      0      0      0\n",
        "Dar          1414     88    109    115\n",
        "Mexico       1460     29      6     91\n",
        "Pemba         294      0      3      0\n",
        "UP           1373      2      3     41"
       ]
      }
     ],
     "prompt_number": 66
    },
    {
     "cell_type": "code",
     "collapsed": false,
     "input": [
      "varc3=cb.question.str.contains(\"had AIDS\")\n",
      "cb[varc3]"
     ],
     "language": "python",
     "metadata": {},
     "outputs": [
      {
       "html": [
        "<div style=\"max-height:1000px;max-width:1500px;overflow:auto;\">\n",
        "<table border=\"1\" class=\"dataframe\">\n",
        "  <thead>\n",
        "    <tr style=\"text-align: right;\">\n",
        "      <th></th>\n",
        "      <th>variable</th>\n",
        "      <th>question</th>\n",
        "      <th>module</th>\n",
        "      <th>health_care_experience</th>\n",
        "      <th>coding</th>\n",
        "    </tr>\n",
        "  </thead>\n",
        "  <tbody>\n",
        "    <tr>\n",
        "      <th>1215</th>\n",
        "      <td> c5_19</td>\n",
        "      <td> Has the deceased's (biological) mother ever be...</td>\n",
        "      <td> Child</td>\n",
        "      <td> 0</td>\n",
        "      <td> 0 \"No\" 1 \"Yes\" 8 \"Refused to Answer\" 9 \"Don't ...</td>\n",
        "    </tr>\n",
        "  </tbody>\n",
        "</table>\n",
        "</div>"
       ],
       "metadata": {},
       "output_type": "pyout",
       "prompt_number": 65,
       "text": [
        "     variable                                           question module  \\\n",
        "1215    c5_19  Has the deceased's (biological) mother ever be...  Child   \n",
        "\n",
        "      health_care_experience  \\\n",
        "1215                       0   \n",
        "\n",
        "                                                 coding  \n",
        "1215  0 \"No\" 1 \"Yes\" 8 \"Refused to Answer\" 9 \"Don't ...  "
       ]
      }
     ],
     "prompt_number": 65
    },
    {
     "cell_type": "code",
     "collapsed": false,
     "input": [
      "dfa.groupby('gs_text34').aids_endor.mean().order"
     ],
     "language": "python",
     "metadata": {},
     "outputs": [
      {
       "metadata": {},
       "output_type": "pyout",
       "prompt_number": 60,
       "text": [
        "<bound method Series.order of gs_text34\n",
        "AIDS                           0.613546\n",
        "Acute Myocardial Infarction    0.002500\n",
        "Asthma                         0.042553\n",
        "...\n",
        "Stroke       0.004762\n",
        "Suicide      0.000000\n",
        "TB           0.097826\n",
        "Name: aids_endor, Length: 34, dtype: float64>"
       ]
      }
     ],
     "prompt_number": 60
    },
    {
     "cell_type": "code",
     "collapsed": false,
     "input": [
      "df.groupby('gs_text34').fever.mean()"
     ],
     "language": "python",
     "metadata": {},
     "outputs": [
      {
       "metadata": {},
       "output_type": "pyout",
       "prompt_number": 59,
       "text": [
        "gs_text34\n",
        "AIDS                           0.794821\n",
        "Acute Myocardial Infarction    0.290000\n",
        "Asthma                         0.446809\n",
        "...\n",
        "Stroke       0.447619\n",
        "Suicide      0.104839\n",
        "TB           0.706522\n",
        "Name: fever, Length: 34, dtype: float64"
       ]
      }
     ],
     "prompt_number": 59
    },
    {
     "cell_type": "code",
     "collapsed": false,
     "input": [
      "sitecompare.loc[:, True]"
     ],
     "language": "python",
     "metadata": {},
     "outputs": [
      {
       "html": [
        "<div style=\"max-height:1000px;max-width:1500px;overflow:auto;\">\n",
        "<table border=\"1\" class=\"dataframe\">\n",
        "  <thead>\n",
        "    <tr style=\"text-align: right;\">\n",
        "      <th>aids_cause</th>\n",
        "      <th>False</th>\n",
        "      <th>True</th>\n",
        "    </tr>\n",
        "    <tr>\n",
        "      <th>site</th>\n",
        "      <th></th>\n",
        "      <th></th>\n",
        "    </tr>\n",
        "  </thead>\n",
        "  <tbody>\n",
        "    <tr>\n",
        "      <th>AP</th>\n",
        "      <td>  14</td>\n",
        "      <td>  61</td>\n",
        "    </tr>\n",
        "    <tr>\n",
        "      <th>Bohol</th>\n",
        "      <td>   0</td>\n",
        "      <td>   0</td>\n",
        "    </tr>\n",
        "    <tr>\n",
        "      <th>Dar</th>\n",
        "      <td> 109</td>\n",
        "      <td> 115</td>\n",
        "    </tr>\n",
        "    <tr>\n",
        "      <th>Mexico</th>\n",
        "      <td>   6</td>\n",
        "      <td>  91</td>\n",
        "    </tr>\n",
        "    <tr>\n",
        "      <th>Pemba</th>\n",
        "      <td>   3</td>\n",
        "      <td>   0</td>\n",
        "    </tr>\n",
        "    <tr>\n",
        "      <th>UP</th>\n",
        "      <td>   3</td>\n",
        "      <td>  41</td>\n",
        "    </tr>\n",
        "  </tbody>\n",
        "</table>\n",
        "</div>"
       ],
       "metadata": {},
       "output_type": "pyout",
       "prompt_number": 68,
       "text": [
        "aids_cause  False  True \n",
        "site                    \n",
        "AP             14     61\n",
        "Bohol           0      0\n",
        "Dar           109    115\n",
        "Mexico          6     91\n",
        "Pemba           3      0\n",
        "UP              3     41"
       ]
      }
     ],
     "prompt_number": 68
    },
    {
     "cell_type": "code",
     "collapsed": false,
     "input": [
      "a=sitecompare.loc[:, True]"
     ],
     "language": "python",
     "metadata": {},
     "outputs": [],
     "prompt_number": 78
    },
    {
     "cell_type": "code",
     "collapsed": false,
     "input": [
      "a[1]*100/(a[0]+a[1])\n"
     ],
     "language": "python",
     "metadata": {},
     "outputs": [
      {
       "metadata": {},
       "output_type": "pyout",
       "prompt_number": 83,
       "text": [
        "site\n",
        "AP        81.333333\n",
        "Bohol           inf\n",
        "Dar       51.339286\n",
        "Mexico    93.814433\n",
        "Pemba      0.000000\n",
        "UP        93.181818\n",
        "dtype: float64"
       ]
      }
     ],
     "prompt_number": 83
    },
    {
     "cell_type": "code",
     "collapsed": false,
     "input": [
      "#some places might have better diagnosis tools."
     ],
     "language": "python",
     "metadata": {},
     "outputs": []
    }
   ],
   "metadata": {}
  }
 ]
}